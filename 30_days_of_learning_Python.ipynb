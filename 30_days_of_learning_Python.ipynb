{
  "nbformat": 4,
  "nbformat_minor": 0,
  "metadata": {
    "colab": {
      "private_outputs": true,
      "provenance": [],
      "authorship_tag": "ABX9TyObKZ4cFCHhMjpfNM5OBwsX",
      "include_colab_link": true
    },
    "kernelspec": {
      "name": "python3",
      "display_name": "Python 3"
    },
    "language_info": {
      "name": "python"
    }
  },
  "cells": [
    {
      "cell_type": "markdown",
      "metadata": {
        "id": "view-in-github",
        "colab_type": "text"
      },
      "source": [
        "<a href=\"https://colab.research.google.com/github/DataGuy-Kariuki/Whats-App-Data-Analysis-/blob/main/30_days_of_learning_Python.ipynb\" target=\"_parent\"><img src=\"https://colab.research.google.com/assets/colab-badge.svg\" alt=\"Open In Colab\"/></a>"
      ]
    },
    {
      "cell_type": "markdown",
      "source": [
        "## Variables\n",
        "\n",
        "\n",
        "*   Variables store data in a computer memory. Mnemonic variables are recommended to use in many programming languages.\n",
        "* A mnemonic variable is a variable name that can be easily remembered and associated.\n",
        "* A variable refers to a memory address in which data is stored. Number at the beginning, special character, hyphen are not allowed when naming a variable.\n",
        "* A variable can have a short name (like x, y, z), but a more descriptive name (firstname, lastname, age, country) is highly recommended.\n",
        "\n",
        "*Python Variable Name Rules*\n",
        "\n",
        "* A variable name must start with a letter or the underscore character\n",
        "* A variable name cannot start with a number\n",
        "* A variable name can only contain alpha-numeric characters and underscores (A-z, 0-9, and _ )\n",
        "* Variable names are case-sensitive (firstname, Firstname, FirstName and FIRSTNAME) are different variables)\n",
        "\n",
        "\n"
      ],
      "metadata": {
        "id": "lIUzorMiALXf"
      }
    },
    {
      "cell_type": "code",
      "execution_count": null,
      "metadata": {
        "id": "VP80esTiAGqL"
      },
      "outputs": [],
      "source": [
        "# Variables in Python\n",
        "first_name = 'Asabeneh'\n",
        "last_name = 'Yetayeh'\n",
        "country = 'Finland'\n",
        "city = 'Helsinki'\n",
        "age = 250\n",
        "is_married = True\n",
        "skills = ['HTML', 'CSS', 'JS', 'React', 'Python']\n",
        "person_info = {\n",
        "   'firstname':'Asabeneh',\n",
        "   'lastname':'Yetayeh',\n",
        "   'country':'Finland',\n",
        "   'city':'Helsinki'\n",
        "   }"
      ]
    },
    {
      "cell_type": "code",
      "source": [
        "print('Hello, World!') # The text Hello, World! is an argument\n",
        "print('Hello',',', 'World','!') # it can take multiple arguments, four arguments have been passed\n",
        "print(len('Hello, World!')) # it takes only one argument"
      ],
      "metadata": {
        "id": "l_KlbC_7A7Bl"
      },
      "execution_count": null,
      "outputs": []
    },
    {
      "cell_type": "markdown",
      "source": [
        "*Dealing with mutiple variables*"
      ],
      "metadata": {
        "id": "wBdZpFfTBCuQ"
      }
    },
    {
      "cell_type": "code",
      "source": [
        "first_name, last_name, country, age, is_married = 'Asabeneh', 'Yetayeh', 'Helsink', 250, True\n",
        "\n",
        "print(first_name, last_name, country, age, is_married)\n",
        "print('First name:', first_name)\n",
        "print('Last name: ', last_name)\n",
        "print('Country: ', country)\n",
        "print('Age: ', age)\n",
        "print('Married: ', is_married)"
      ],
      "metadata": {
        "id": "lZ9P77JZA_qK"
      },
      "execution_count": null,
      "outputs": []
    },
    {
      "cell_type": "markdown",
      "source": [
        "* Let us assign the data we get from a user into first_name and age variables."
      ],
      "metadata": {
        "id": "cXrC7LvBBcAA"
      }
    },
    {
      "cell_type": "code",
      "source": [
        "first_name = input('What is your name: ')\n",
        "age = input('How old are you? ')\n",
        "\n",
        "print(first_name)\n",
        "print(age)"
      ],
      "metadata": {
        "id": "65spZEVsA_oY"
      },
      "execution_count": null,
      "outputs": []
    },
    {
      "cell_type": "markdown",
      "source": [
        "## Data Types\n",
        "\n",
        "* There are several data types in Python. To identify the data type we use the type built-in function.\n",
        "\n",
        "*\n",
        "Checking & casting data types in python*"
      ],
      "metadata": {
        "id": "F0rlKalQB0Cf"
      }
    },
    {
      "cell_type": "code",
      "source": [
        "# Different python data types\n",
        "# Let's declare variables with various data types\n",
        "\n",
        "first_name = 'Asabeneh'     # str\n",
        "last_name = 'Yetayeh'       # str\n",
        "country = 'Finland'         # str\n",
        "city= 'Helsinki'            # str\n",
        "age = 250                   # int, it is not my real age, don't worry about it\n",
        "\n",
        "# Printing out types\n",
        "print(type('Asabeneh'))     # str\n",
        "print(type(first_name))     # str\n",
        "print(type(10))             # int\n",
        "print(type(3.14))           # float\n",
        "print(type(1 + 1j))         # complex\n",
        "print(type(True))           # bool\n",
        "print(type([1, 2, 3, 4]))     # list\n",
        "print(type({'name':'Asabeneh','age':250, 'is_married':250}))    # dict\n",
        "print(type((1,2)))                                              # tuple\n",
        "print(type(zip([1,2],[3,4])))                                   # set"
      ],
      "metadata": {
        "id": "sC2EO0ueB-Xt"
      },
      "execution_count": null,
      "outputs": []
    },
    {
      "cell_type": "markdown",
      "source": [
        "* Casting: Converting one data type to another data type. We use int(), float(), str(), list, set When we do arithmetic operations string numbers should be first converted to int or float otherwise it will return an error. If we concatenate a number with a string, the number should be first converted to a string."
      ],
      "metadata": {
        "id": "f_lBH93CCRKG"
      }
    },
    {
      "cell_type": "code",
      "source": [
        "# int to float\n",
        "num_int = 10\n",
        "print('num_int',num_int)         # 10\n",
        "num_float = float(num_int)\n",
        "print('num_float:', num_float)   # 10.0\n",
        "\n",
        "# float to int\n",
        "gravity = 9.81\n",
        "print(int(gravity))             # 9\n",
        "\n",
        "# int to str\n",
        "num_int = 10\n",
        "print(num_int)                  # 10\n",
        "num_str = str(num_int)\n",
        "print(num_str)                  # '10'\n",
        "\n",
        "# str to list\n",
        "first_name = 'Asabeneh'\n",
        "print(first_name)               # 'Asabeneh'\n",
        "first_name_to_list = list(first_name)\n",
        "print(first_name_to_list)            # ['A', 's', 'a', 'b', 'e', 'n', 'e', 'h']"
      ],
      "metadata": {
        "id": "lYrq-vkRCXmM"
      },
      "execution_count": null,
      "outputs": []
    },
    {
      "cell_type": "markdown",
      "source": [
        "## Boolean"
      ],
      "metadata": {
        "id": "HkAKfXmOD3LS"
      }
    },
    {
      "cell_type": "markdown",
      "source": [
        "* A boolean data type represents one of the two values: True or False. The use of these data types will be clear once we start using the comparison operator. The first letter T for True and F for False should be capital unlike JavaScript. Example: Boolean Values"
      ],
      "metadata": {
        "id": "6vo40oSJEB1L"
      }
    },
    {
      "cell_type": "code",
      "source": [
        "print(True)\n",
        "print(False)"
      ],
      "metadata": {
        "id": "-sE4tu6bD8YF"
      },
      "execution_count": null,
      "outputs": []
    },
    {
      "cell_type": "markdown",
      "source": [
        "## Arithment Operators\n",
        "\n",
        "* Addition(+): a + b\n",
        "* Subtraction(-): a - b\n",
        "* Multiplication(*): a * b\n",
        "* Division(/): a / b\n",
        "* Modulus(%): a % b\n",
        "* Floor division(//): a // b\n",
        "* Exponentiation(**): a ** b\n",
        "\n"
      ],
      "metadata": {
        "id": "TdQkLL09Ei0Z"
      }
    },
    {
      "cell_type": "code",
      "source": [
        "# Arithmetic Operations in Python\n",
        "# Integers\n",
        "\n",
        "print('Addition: ', 1 + 2)        # 3\n",
        "print('Subtraction: ', 2 - 1)     # 1\n",
        "print('Multiplication: ', 2 * 3)  # 6\n",
        "print ('Division: ', 4 / 2)       # 2.0  Division in Python gives floating number\n",
        "print('Division: ', 6 / 2)        # 3.0\n",
        "print('Division: ', 7 / 2)        # 3.5\n",
        "print('Division without the remainder: ', 7 // 2)   # 3,  gives without the floating number or without the remaining\n",
        "print ('Division without the remainder: ',7 // 3)   # 2\n",
        "print('Modulus: ', 3 % 2)         # 1, Gives the remainder\n",
        "print('Exponentiation: ', 2 ** 3) # 9 it means 2 * 2 * 2"
      ],
      "metadata": {
        "id": "kWwU6l5IEn-Z"
      },
      "execution_count": null,
      "outputs": []
    },
    {
      "cell_type": "code",
      "source": [
        "# Floating numbers\n",
        "print('Floating Point Number, PI', 3.14)\n",
        "print('Floating Point Number, gravity', 9.81)"
      ],
      "metadata": {
        "id": "dmfh57lmFG3T"
      },
      "execution_count": null,
      "outputs": []
    },
    {
      "cell_type": "code",
      "source": [
        "# Complex numbers\n",
        "print('Complex number: ', 1 + 1j)\n",
        "print('Multiplying complex numbers: ',(1 + 1j) * (1 - 1j))"
      ],
      "metadata": {
        "id": "jyPQLMKrFKqN"
      },
      "execution_count": null,
      "outputs": []
    },
    {
      "cell_type": "code",
      "source": [
        "print(3 > 2)     # True, because 3 is greater than 2\n",
        "print(3 >= 2)    # True, because 3 is greater than 2\n",
        "print(3 < 2)     # False,  because 3 is greater than 2\n",
        "print(2 < 3)     # True, because 2 is less than 3\n",
        "print(2 <= 3)    # True, because 2 is less than 3\n",
        "print(3 == 2)    # False, because 3 is not equal to 2\n",
        "print(3 != 2)    # True, because 3 is not equal to 2\n",
        "print(len('mango') == len('avocado'))  # False\n",
        "print(len('mango') != len('avocado'))  # True\n",
        "print(len('mango') < len('avocado'))   # True\n",
        "print(len('milk') != len('meat'))      # False\n",
        "print(len('milk') == len('meat'))      # True\n",
        "print(len('tomato') == len('potato'))  # True\n",
        "print(len('python') > len('dragon'))   # False\n",
        "\n",
        "\n",
        "# Comparing something gives either a True or False\n",
        "\n",
        "print('True == True: ', True == True)\n",
        "print('True == False: ', True == False)\n",
        "print('False == False:', False == False)"
      ],
      "metadata": {
        "id": "ShJgPBKIGVg_"
      },
      "execution_count": null,
      "outputs": []
    },
    {
      "cell_type": "code",
      "source": [
        "# Calculating area of a circle\n",
        "radius = 10                                 # radius of a circle\n",
        "area_of_circle = 3.14 * radius ** 2         # two * sign means exponent or power\n",
        "print('Area of a circle:', area_of_circle)\n",
        "\n",
        "# Calculating area of a rectangle\n",
        "length = 10\n",
        "width = 20\n",
        "area_of_rectangle = length * width\n",
        "print('Area of rectangle:', area_of_rectangle)\n",
        "\n",
        "# Calculating a weight of an object\n",
        "mass = 75\n",
        "gravity = 9.81\n",
        "weight = mass * gravity\n",
        "print(weight, 'N')                         # Adding unit to the weight\n",
        "\n",
        "# Calculate the density of a liquid\n",
        "mass = 75 # in Kg\n",
        "volume = 0.075 # in cubic meter\n",
        "density = mass / volume # 1000 Kg/m^3\n"
      ],
      "metadata": {
        "id": "bUFhYjHIGmEp"
      },
      "execution_count": null,
      "outputs": []
    },
    {
      "cell_type": "code",
      "source": [
        "print(3 > 2 and 4 > 3) # True - because both statements are true\n",
        "print(3 > 2 and 4 < 3) # False - because the second statement is false\n",
        "print(3 < 2 and 4 < 3) # False - because both statements are false\n",
        "print('True and True: ', True and True)\n",
        "print(3 > 2 or 4 > 3)  # True - because both statements are true\n",
        "print(3 > 2 or 4 < 3)  # True - because one of the statements is true\n",
        "print(3 < 2 or 4 < 3)  # False - because both statements are false\n",
        "print('True or False:', True or False)\n",
        "print(not 3 > 2)     # False - because 3 > 2 is true, then not True gives False\n",
        "print(not True)      # False - Negation, the not operator turns true to false\n",
        "print(not False)     # True\n",
        "print(not not True)  # True\n",
        "print(not not False) # False\n"
      ],
      "metadata": {
        "id": "P54RQxiSG7Gz"
      },
      "execution_count": null,
      "outputs": []
    }
  ]
}